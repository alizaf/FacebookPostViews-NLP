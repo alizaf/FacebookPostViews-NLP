{
 "cells": [
  {
   "cell_type": "markdown",
   "metadata": {},
   "source": [
    "## Import relevant libraries. (json, sklearn, pandas and numpy )"
   ]
  },
  {
   "cell_type": "code",
   "execution_count": 1,
   "metadata": {},
   "outputs": [],
   "source": [
    "import json,string\n",
    "import pandas as pd\n",
    "import numpy as np\n",
    "from nltk import word_tokenize\n",
    "from nltk.corpus import stopwords\n",
    "from sklearn.decomposition import TruncatedSVD\n",
    "from sklearn.linear_model import LinearRegression\n",
    "from sklearn.model_selection import train_test_split\n",
    "from sklearn.feature_extraction.text import TfidfVectorizer, CountVectorizer\n",
    "from sklearn.metrics import mean_squared_error,mean_absolute_error\n",
    "from sklearn.ensemble import RandomForestRegressor\n",
    "from sklearn.model_selection import cross_val_score\n",
    "from sklearn.pipeline import *\n",
    "from sklearn.preprocessing import Normalizer\n",
    "import matplotlib.pyplot as plt\n",
    "%matplotlib inline"
   ]
  },
  {
   "cell_type": "markdown",
   "metadata": {},
   "source": [
    "##  Read and extract data from json file\n",
    "\n",
    "- We can use json library along with a recursive function that expands nested values in json format. \n",
    "- The clean data is then stored in a pandas dataframe"
   ]
  },
  {
   "cell_type": "code",
   "execution_count": 2,
   "metadata": {
    "collapsed": true
   },
   "outputs": [],
   "source": [
    "res=[]\n",
    "with open('posts.json') as f:\n",
    "    for line in f.readlines():\n",
    "        res.append({\"\":json.loads(line.replace(\"[\",\" \").replace(\"]\",\" \"))})\n"
   ]
  },
  {
   "cell_type": "code",
   "execution_count": 3,
   "metadata": {
    "collapsed": true
   },
   "outputs": [],
   "source": [
    "from functools import reduce\n",
    "\n",
    "def _flatten_reducer(dict_, key, val, prefix):\n",
    "    if isinstance(val, (dict,list)):\n",
    "        return {**flatten(val, prefix + key), **dict_}\n",
    "    else:\n",
    "        return {prefix + key: val, **dict_}\n",
    "\n",
    "\n",
    "def flatten(dict_, prefix=''):\n",
    "    # flatten nested dicts\n",
    "    return reduce(\n",
    "        lambda new_dict, cur_kv: _flatten_reducer(new_dict, *cur_kv, prefix),\n",
    "        dict_.items(),\n",
    "        {}\n",
    "    )"
   ]
  },
  {
   "cell_type": "code",
   "execution_count": 4,
   "metadata": {
    "collapsed": true
   },
   "outputs": [],
   "source": [
    "data = pd.DataFrame([flatten(res[i]) for i in range(len(res))])"
   ]
  },
  {
   "cell_type": "code",
   "execution_count": 5,
   "metadata": {
    "collapsed": true,
    "scrolled": false
   },
   "outputs": [],
   "source": [
    "pd.set_option(\"display.max_rows\",400)\n",
    "data.T.iloc[:,0:5].to_csv('sample.csv')"
   ]
  },
  {
   "cell_type": "code",
   "execution_count": 6,
   "metadata": {},
   "outputs": [
    {
     "data": {
      "text/html": [
       "<div>\n",
       "<style scoped>\n",
       "    .dataframe tbody tr th:only-of-type {\n",
       "        vertical-align: middle;\n",
       "    }\n",
       "\n",
       "    .dataframe tbody tr th {\n",
       "        vertical-align: top;\n",
       "    }\n",
       "\n",
       "    .dataframe thead th {\n",
       "        text-align: right;\n",
       "    }\n",
       "</style>\n",
       "<table border=\"1\" class=\"dataframe\">\n",
       "  <thead>\n",
       "    <tr style=\"text-align: right;\">\n",
       "      <th></th>\n",
       "      <th>caption</th>\n",
       "      <th>created_time</th>\n",
       "      <th>description</th>\n",
       "      <th>feed_targetingreach_estimate</th>\n",
       "      <th>id</th>\n",
       "      <th>insightspost_consumptions_by_type_uniquedescription</th>\n",
       "      <th>insightspost_consumptions_by_type_uniqueid</th>\n",
       "      <th>insightspost_consumptions_by_type_uniquename</th>\n",
       "      <th>insightspost_consumptions_by_type_uniqueperiod</th>\n",
       "      <th>insightspost_consumptions_by_type_uniquetitle</th>\n",
       "      <th>...</th>\n",
       "      <th>insightspost_video_viewsname</th>\n",
       "      <th>insightspost_video_viewsperiod</th>\n",
       "      <th>insightspost_video_viewstitle</th>\n",
       "      <th>insightspost_video_viewsvaluesvalue</th>\n",
       "      <th>link</th>\n",
       "      <th>link_to_post</th>\n",
       "      <th>message</th>\n",
       "      <th>name</th>\n",
       "      <th>picture</th>\n",
       "      <th>story</th>\n",
       "    </tr>\n",
       "  </thead>\n",
       "  <tbody>\n",
       "    <tr>\n",
       "      <th>0</th>\n",
       "      <td>komonews.com</td>\n",
       "      <td>2015-09-17T20:50:00+0000</td>\n",
       "      <td>About 20 western Virginia high school students...</td>\n",
       "      <td>NaN</td>\n",
       "      <td>114431401958534_940695755998757</td>\n",
       "      <td>Lifetime: The number of people who clicked any...</td>\n",
       "      <td>114431401958534_940695755998757/insights/post_...</td>\n",
       "      <td>post_consumptions_by_type_unique</td>\n",
       "      <td>lifetime</td>\n",
       "      <td>Lifetime Post consumers by type</td>\n",
       "      <td>...</td>\n",
       "      <td>post_video_views</td>\n",
       "      <td>lifetime</td>\n",
       "      <td>Lifetime Total Video Views</td>\n",
       "      <td>0.0</td>\n",
       "      <td>http://www.komonews.com/news/national/Students...</td>\n",
       "      <td>http://facebook.com/114431401958534_9406957559...</td>\n",
       "      <td>Do you think the Confederate flag should be ba...</td>\n",
       "      <td>Students suspended for clothing displaying Con...</td>\n",
       "      <td>https://external.xx.fbcdn.net/safe_image.php?d...</td>\n",
       "      <td>NaN</td>\n",
       "    </tr>\n",
       "    <tr>\n",
       "      <th>1</th>\n",
       "      <td>NaN</td>\n",
       "      <td>2015-09-17T20:20:01+0000</td>\n",
       "      <td>NaN</td>\n",
       "      <td>NaN</td>\n",
       "      <td>114431401958534_940684872666512</td>\n",
       "      <td>Lifetime: The number of people who clicked any...</td>\n",
       "      <td>114431401958534_940684872666512/insights/post_...</td>\n",
       "      <td>post_consumptions_by_type_unique</td>\n",
       "      <td>lifetime</td>\n",
       "      <td>Lifetime Post consumers by type</td>\n",
       "      <td>...</td>\n",
       "      <td>NaN</td>\n",
       "      <td>NaN</td>\n",
       "      <td>NaN</td>\n",
       "      <td>NaN</td>\n",
       "      <td>https://www.facebook.com/KOMONews/photos/a.121...</td>\n",
       "      <td>http://facebook.com/114431401958534_9406848726...</td>\n",
       "      <td>Seattle Seahawks' Russell Wilson answered lots...</td>\n",
       "      <td>Timeline Photos</td>\n",
       "      <td>https://fbcdn-photos-b-a.akamaihd.net/hphotos-...</td>\n",
       "      <td>NaN</td>\n",
       "    </tr>\n",
       "    <tr>\n",
       "      <th>2</th>\n",
       "      <td>komonews.com</td>\n",
       "      <td>2015-09-17T19:49:28+0000</td>\n",
       "      <td>Despite September looking like it will break o...</td>\n",
       "      <td>NaN</td>\n",
       "      <td>114431401958534_940684229333243</td>\n",
       "      <td>Lifetime: The number of people who clicked any...</td>\n",
       "      <td>114431401958534_940684229333243/insights/post_...</td>\n",
       "      <td>post_consumptions_by_type_unique</td>\n",
       "      <td>lifetime</td>\n",
       "      <td>Lifetime Post consumers by type</td>\n",
       "      <td>...</td>\n",
       "      <td>post_video_views</td>\n",
       "      <td>lifetime</td>\n",
       "      <td>Lifetime Total Video Views</td>\n",
       "      <td>0.0</td>\n",
       "      <td>http://www.komonews.com/weather/blogs/scott/Ne...</td>\n",
       "      <td>http://facebook.com/114431401958534_9406842293...</td>\n",
       "      <td>It'll be a bummer for snow lovers, but warm-we...</td>\n",
       "      <td>New forecasts still say mild winter, hot summe...</td>\n",
       "      <td>https://external.xx.fbcdn.net/safe_image.php?d...</td>\n",
       "      <td>NaN</td>\n",
       "    </tr>\n",
       "    <tr>\n",
       "      <th>3</th>\n",
       "      <td>komonews.com</td>\n",
       "      <td>2015-09-17T19:18:00+0000</td>\n",
       "      <td>Amazon is dangling a $50 tablet computer in it...</td>\n",
       "      <td>NaN</td>\n",
       "      <td>114431401958534_940637569337909</td>\n",
       "      <td>Lifetime: The number of people who clicked any...</td>\n",
       "      <td>114431401958534_940637569337909/insights/post_...</td>\n",
       "      <td>post_consumptions_by_type_unique</td>\n",
       "      <td>lifetime</td>\n",
       "      <td>Lifetime Post consumers by type</td>\n",
       "      <td>...</td>\n",
       "      <td>post_video_views</td>\n",
       "      <td>lifetime</td>\n",
       "      <td>Lifetime Total Video Views</td>\n",
       "      <td>0.0</td>\n",
       "      <td>http://www.komonews.com/news/tech/Amazon-dangl...</td>\n",
       "      <td>http://facebook.com/114431401958534_9406375693...</td>\n",
       "      <td>What do you think of Amazon's cheaper tablet?</td>\n",
       "      <td>Amazon dangles $50 tablet computer to hook mor...</td>\n",
       "      <td>https://fbexternal-a.akamaihd.net/safe_image.p...</td>\n",
       "      <td>NaN</td>\n",
       "    </tr>\n",
       "    <tr>\n",
       "      <th>4</th>\n",
       "      <td>komonews.com</td>\n",
       "      <td>2015-09-17T18:45:00+0000</td>\n",
       "      <td>Earth's record-breaking heat is sounding an aw...</td>\n",
       "      <td>NaN</td>\n",
       "      <td>114431401958534_940535546014778</td>\n",
       "      <td>Lifetime: The number of people who clicked any...</td>\n",
       "      <td>114431401958534_940535546014778/insights/post_...</td>\n",
       "      <td>post_consumptions_by_type_unique</td>\n",
       "      <td>lifetime</td>\n",
       "      <td>Lifetime Post consumers by type</td>\n",
       "      <td>...</td>\n",
       "      <td>post_video_views</td>\n",
       "      <td>lifetime</td>\n",
       "      <td>Lifetime Total Video Views</td>\n",
       "      <td>0.0</td>\n",
       "      <td>http://www.komonews.com/news/national/Earths-r...</td>\n",
       "      <td>http://facebook.com/114431401958534_9405355460...</td>\n",
       "      <td>Meteorologists say 2015 is a near certainty to...</td>\n",
       "      <td>Earth's record streak of record heat keeps on ...</td>\n",
       "      <td>https://external.xx.fbcdn.net/safe_image.php?d...</td>\n",
       "      <td>NaN</td>\n",
       "    </tr>\n",
       "  </tbody>\n",
       "</table>\n",
       "<p>5 rows × 503 columns</p>\n",
       "</div>"
      ],
      "text/plain": [
       "        caption              created_time  \\\n",
       "0  komonews.com  2015-09-17T20:50:00+0000   \n",
       "1           NaN  2015-09-17T20:20:01+0000   \n",
       "2  komonews.com  2015-09-17T19:49:28+0000   \n",
       "3  komonews.com  2015-09-17T19:18:00+0000   \n",
       "4  komonews.com  2015-09-17T18:45:00+0000   \n",
       "\n",
       "                                         description  \\\n",
       "0  About 20 western Virginia high school students...   \n",
       "1                                                NaN   \n",
       "2  Despite September looking like it will break o...   \n",
       "3  Amazon is dangling a $50 tablet computer in it...   \n",
       "4  Earth's record-breaking heat is sounding an aw...   \n",
       "\n",
       "  feed_targetingreach_estimate                               id  \\\n",
       "0                          NaN  114431401958534_940695755998757   \n",
       "1                          NaN  114431401958534_940684872666512   \n",
       "2                          NaN  114431401958534_940684229333243   \n",
       "3                          NaN  114431401958534_940637569337909   \n",
       "4                          NaN  114431401958534_940535546014778   \n",
       "\n",
       "  insightspost_consumptions_by_type_uniquedescription  \\\n",
       "0  Lifetime: The number of people who clicked any...    \n",
       "1  Lifetime: The number of people who clicked any...    \n",
       "2  Lifetime: The number of people who clicked any...    \n",
       "3  Lifetime: The number of people who clicked any...    \n",
       "4  Lifetime: The number of people who clicked any...    \n",
       "\n",
       "          insightspost_consumptions_by_type_uniqueid  \\\n",
       "0  114431401958534_940695755998757/insights/post_...   \n",
       "1  114431401958534_940684872666512/insights/post_...   \n",
       "2  114431401958534_940684229333243/insights/post_...   \n",
       "3  114431401958534_940637569337909/insights/post_...   \n",
       "4  114431401958534_940535546014778/insights/post_...   \n",
       "\n",
       "  insightspost_consumptions_by_type_uniquename  \\\n",
       "0             post_consumptions_by_type_unique   \n",
       "1             post_consumptions_by_type_unique   \n",
       "2             post_consumptions_by_type_unique   \n",
       "3             post_consumptions_by_type_unique   \n",
       "4             post_consumptions_by_type_unique   \n",
       "\n",
       "  insightspost_consumptions_by_type_uniqueperiod  \\\n",
       "0                                       lifetime   \n",
       "1                                       lifetime   \n",
       "2                                       lifetime   \n",
       "3                                       lifetime   \n",
       "4                                       lifetime   \n",
       "\n",
       "  insightspost_consumptions_by_type_uniquetitle  ...    \\\n",
       "0               Lifetime Post consumers by type  ...     \n",
       "1               Lifetime Post consumers by type  ...     \n",
       "2               Lifetime Post consumers by type  ...     \n",
       "3               Lifetime Post consumers by type  ...     \n",
       "4               Lifetime Post consumers by type  ...     \n",
       "\n",
       "   insightspost_video_viewsname  insightspost_video_viewsperiod  \\\n",
       "0              post_video_views                        lifetime   \n",
       "1                           NaN                             NaN   \n",
       "2              post_video_views                        lifetime   \n",
       "3              post_video_views                        lifetime   \n",
       "4              post_video_views                        lifetime   \n",
       "\n",
       "   insightspost_video_viewstitle  insightspost_video_viewsvaluesvalue  \\\n",
       "0     Lifetime Total Video Views                                  0.0   \n",
       "1                            NaN                                  NaN   \n",
       "2     Lifetime Total Video Views                                  0.0   \n",
       "3     Lifetime Total Video Views                                  0.0   \n",
       "4     Lifetime Total Video Views                                  0.0   \n",
       "\n",
       "                                                link  \\\n",
       "0  http://www.komonews.com/news/national/Students...   \n",
       "1  https://www.facebook.com/KOMONews/photos/a.121...   \n",
       "2  http://www.komonews.com/weather/blogs/scott/Ne...   \n",
       "3  http://www.komonews.com/news/tech/Amazon-dangl...   \n",
       "4  http://www.komonews.com/news/national/Earths-r...   \n",
       "\n",
       "                                        link_to_post  \\\n",
       "0  http://facebook.com/114431401958534_9406957559...   \n",
       "1  http://facebook.com/114431401958534_9406848726...   \n",
       "2  http://facebook.com/114431401958534_9406842293...   \n",
       "3  http://facebook.com/114431401958534_9406375693...   \n",
       "4  http://facebook.com/114431401958534_9405355460...   \n",
       "\n",
       "                                             message  \\\n",
       "0  Do you think the Confederate flag should be ba...   \n",
       "1  Seattle Seahawks' Russell Wilson answered lots...   \n",
       "2  It'll be a bummer for snow lovers, but warm-we...   \n",
       "3      What do you think of Amazon's cheaper tablet?   \n",
       "4  Meteorologists say 2015 is a near certainty to...   \n",
       "\n",
       "                                                name  \\\n",
       "0  Students suspended for clothing displaying Con...   \n",
       "1                                    Timeline Photos   \n",
       "2  New forecasts still say mild winter, hot summe...   \n",
       "3  Amazon dangles $50 tablet computer to hook mor...   \n",
       "4  Earth's record streak of record heat keeps on ...   \n",
       "\n",
       "                                             picture  story  \n",
       "0  https://external.xx.fbcdn.net/safe_image.php?d...    NaN  \n",
       "1  https://fbcdn-photos-b-a.akamaihd.net/hphotos-...    NaN  \n",
       "2  https://external.xx.fbcdn.net/safe_image.php?d...    NaN  \n",
       "3  https://fbexternal-a.akamaihd.net/safe_image.p...    NaN  \n",
       "4  https://external.xx.fbcdn.net/safe_image.php?d...    NaN  \n",
       "\n",
       "[5 rows x 503 columns]"
      ]
     },
     "execution_count": 6,
     "metadata": {},
     "output_type": "execute_result"
    }
   ],
   "source": [
    "data.head()"
   ]
  },
  {
   "cell_type": "code",
   "execution_count": 7,
   "metadata": {
    "collapsed": true
   },
   "outputs": [],
   "source": [
    "# selected features for analysis\n",
    "features = ['description','insightspost_impressionsvaluesvalue','insightspost_negative_feedbackvaluesvalue',\n",
    "            'insightspost_storiesvaluesvalue','insightspost_storytellers_by_action_typevaluesvaluecomment',\n",
    "            'insightspost_storytellers_by_action_typevaluesvaluelike','insightspost_storytellers_by_action_typevaluesvalueshare',\n",
    "            'insightspost_consumptionsvaluesvalue','message','name','caption','created_time','id']\n",
    "data1 = data[features]"
   ]
  },
  {
   "cell_type": "code",
   "execution_count": 8,
   "metadata": {
    "scrolled": true
   },
   "outputs": [
    {
     "name": "stdout",
     "output_type": "stream",
     "text": [
      "<class 'pandas.core.frame.DataFrame'>\n",
      "RangeIndex: 8639 entries, 0 to 8638\n",
      "Data columns (total 13 columns):\n",
      "description                                                   4573 non-null object\n",
      "insightspost_impressionsvaluesvalue                           8639 non-null int64\n",
      "insightspost_negative_feedbackvaluesvalue                     8639 non-null int64\n",
      "insightspost_storiesvaluesvalue                               8639 non-null int64\n",
      "insightspost_storytellers_by_action_typevaluesvaluecomment    8499 non-null float64\n",
      "insightspost_storytellers_by_action_typevaluesvaluelike       8547 non-null float64\n",
      "insightspost_storytellers_by_action_typevaluesvalueshare      8393 non-null float64\n",
      "insightspost_consumptionsvaluesvalue                          8639 non-null int64\n",
      "message                                                       8538 non-null object\n",
      "name                                                          7381 non-null object\n",
      "caption                                                       5314 non-null object\n",
      "created_time                                                  8639 non-null object\n",
      "id                                                            8639 non-null object\n",
      "dtypes: float64(3), int64(4), object(6)\n",
      "memory usage: 877.5+ KB\n"
     ]
    }
   ],
   "source": [
    "data1.info()"
   ]
  },
  {
   "cell_type": "markdown",
   "metadata": {},
   "source": [
    "## Handling missing values\n",
    "- We can drop the rows with missing metric values and fill the text fields with an empty string."
   ]
  },
  {
   "cell_type": "code",
   "execution_count": 9,
   "metadata": {
    "scrolled": true
   },
   "outputs": [
    {
     "name": "stderr",
     "output_type": "stream",
     "text": [
      "/Users/alizaf/anaconda/envs/py36/lib/python3.6/site-packages/pandas/core/generic.py:4355: SettingWithCopyWarning: \n",
      "A value is trying to be set on a copy of a slice from a DataFrame\n",
      "\n",
      "See the caveats in the documentation: http://pandas.pydata.org/pandas-docs/stable/indexing.html#indexing-view-versus-copy\n",
      "  self._update_inplace(new_data)\n"
     ]
    }
   ],
   "source": [
    "cat, num =[],[]\n",
    "for c in data1.columns:\n",
    "    if data1[c].dtype==\"object\":\n",
    "        cat.append(c)\n",
    "        data1.loc[:,c].fillna(value=\"\",inplace=True)\n",
    "    else:\n",
    "        num.append(c)\n"
   ]
  },
  {
   "cell_type": "code",
   "execution_count": 10,
   "metadata": {
    "collapsed": true
   },
   "outputs": [],
   "source": [
    "data1 = data1[~data1[num].isnull().any(axis=1)]"
   ]
  },
  {
   "cell_type": "markdown",
   "metadata": {
    "collapsed": true
   },
   "source": [
    "## Combine all text columns.\n",
    "This might help with hihglighting repeated words in word vectorizer. "
   ]
  },
  {
   "cell_type": "code",
   "execution_count": 11,
   "metadata": {},
   "outputs": [],
   "source": [
    "data1['text'] = data1[['description','message','name']].apply(lambda x: \" \".join(x),axis=1)"
   ]
  },
  {
   "cell_type": "markdown",
   "metadata": {
    "collapsed": true
   },
   "source": [
    "## Selecting Target Metric:\n",
    " \n",
    " - I have selected click through rate for this brief study, as it provides insight to ratio of clicks out of total impressions. \n",
    " - As described bellow, a log transform can make our target data much closer to a normal shape, which is in general more suitable for Mean Square Error (MSE). "
   ]
  },
  {
   "cell_type": "code",
   "execution_count": 12,
   "metadata": {
    "collapsed": true
   },
   "outputs": [],
   "source": [
    "data1['CTR'] = np.divide(data1.loc[:,'insightspost_consumptionsvaluesvalue'],data1.loc[:,'insightspost_impressionsvaluesvalue'])"
   ]
  },
  {
   "cell_type": "code",
   "execution_count": 13,
   "metadata": {
    "scrolled": true
   },
   "outputs": [
    {
     "data": {
      "text/plain": [
       "<matplotlib.axes._subplots.AxesSubplot at 0x13d596fd0>"
      ]
     },
     "execution_count": 13,
     "metadata": {},
     "output_type": "execute_result"
    },
    {
     "data": {
      "image/png": "[encoded data removed]",
      "text/plain": [
       "<matplotlib.figure.Figure at 0x145e23cf8>"
      ]
     },
     "metadata": {},
     "output_type": "display_data"
    }
   ],
   "source": [
    "data1.CTR.hist(bins=100)"
   ]
  },
  {
   "cell_type": "code",
   "execution_count": 14,
   "metadata": {},
   "outputs": [
    {
     "data": {
      "text/plain": [
       "<matplotlib.axes._subplots.AxesSubplot at 0x142026f98>"
      ]
     },
     "execution_count": 14,
     "metadata": {},
     "output_type": "execute_result"
    },
    {
     "data": {
      "image/png": "[encoded data removed]",
      "text/plain": [
       "<matplotlib.figure.Figure at 0x145e0b0b8>"
      ]
     },
     "metadata": {},
     "output_type": "display_data"
    }
   ],
   "source": [
    "data1['CTR_log'] = data1.CTR.apply(lambda x:np.log(x))\n",
    "data1['CTR_log'] .hist(bins=100)"
   ]
  },
  {
   "cell_type": "markdown",
   "metadata": {},
   "source": [
    "- Note that standard deviation is 0.62. This is the maximum error our model can have to add any value. "
   ]
  },
  {
   "cell_type": "code",
   "execution_count": 15,
   "metadata": {},
   "outputs": [
    {
     "data": {
      "text/plain": [
       "count    8356.000000\n",
       "mean       -3.793492\n",
       "std         0.620054\n",
       "min        -6.648539\n",
       "25%        -4.181847\n",
       "50%        -3.800854\n",
       "75%        -3.413726\n",
       "max        -0.268543\n",
       "Name: CTR_log, dtype: float64"
      ]
     },
     "execution_count": 15,
     "metadata": {},
     "output_type": "execute_result"
    }
   ],
   "source": [
    "data1.CTR_log.describe()"
   ]
  },
  {
   "cell_type": "markdown",
   "metadata": {},
   "source": [
    "- Train/ Test split is the next step. We perform cross validation on train data and save test data for final scoring. "
   ]
  },
  {
   "cell_type": "code",
   "execution_count": 16,
   "metadata": {
    "collapsed": true
   },
   "outputs": [],
   "source": [
    "xtrain, xtest, ytrain, ytest = train_test_split(data1.text.values, data1.CTR_log, \n",
    "                                                  random_state=42, \n",
    "                                                  test_size=0.25)"
   ]
  },
  {
   "cell_type": "markdown",
   "metadata": {},
   "source": [
    "# NLP:\n",
    "- TF-IDF and Count Vectorizer are tested for quantifying text data. We try to predict results only relying on these data. Other meta data such as datetime, frequency of posts etc. are arguably effective to include in model which we skip them in this brief analysis. "
   ]
  },
  {
   "cell_type": "code",
   "execution_count": 17,
   "metadata": {
    "collapsed": true
   },
   "outputs": [],
   "source": [
    "def get_vec_pipe(num_comp=0, vect='tfv', reducer='svd'):\n",
    "# Create text vectorization pipeline with optional dimensionality reduction.\n",
    "    # Vectorizer\n",
    "    vec_pipe = []\n",
    "    if vect == 'tfv':\n",
    "        tfv = TfidfVectorizer(min_df=3,  max_features=None, \n",
    "            strip_accents='unicode', analyzer='word',token_pattern=r'\\w{1,}',\n",
    "            ngram_range=(1, 3), use_idf=1,smooth_idf=1,sublinear_tf=1,\n",
    "            stop_words = 'english')\n",
    "        vec_pipe.append(('vec', tfv))\n",
    "    else:\n",
    "        ctv = CountVectorizer(analyzer='word',token_pattern=r'\\w{1,}',\n",
    "            ngram_range=(1, 3), stop_words = 'english')\n",
    "        vec_pipe.append(('vec', ctv))\n",
    "    \n",
    "    # Reduce dimensions\n",
    "    if num_comp > 0:\n",
    "        if reducer == 'svd':\n",
    "            vec_pipe.append(('dim_red', TruncatedSVD(num_comp)))\n",
    "        elif reducer == 'kbest':\n",
    "            vec_pipe.append(('dim_red', SelectKBest(chi2, k=num_comp)))\n",
    "        elif reducer == 'percentile':\n",
    "            vec_pipe.append(('dim_red', SelectPercentile(f_classif, percentile=num_comp)))\n",
    "\n",
    "        vec_pipe.append(('norm', Normalizer()))\n",
    "    return Pipeline(vec_pipe)"
   ]
  },
  {
   "cell_type": "code",
   "execution_count": 18,
   "metadata": {},
   "outputs": [
    {
     "data": {
      "text/plain": [
       "count    5.000000\n",
       "mean     0.531489\n",
       "std      0.013668\n",
       "min      0.512338\n",
       "25%      0.527388\n",
       "50%      0.528245\n",
       "75%      0.543692\n",
       "max      0.545782\n",
       "dtype: float64"
      ]
     },
     "execution_count": 18,
     "metadata": {},
     "output_type": "execute_result"
    }
   ],
   "source": [
    "# CTV\n",
    "# ncomp is temporarily set as 200. we will tune it in following sections. Liniear regression is selected as a starting point. \n",
    "ncomp=200\n",
    "full_pipeline = Pipeline([\n",
    "        (\"preparation\", get_vec_pipe(ncomp,vect=\"ctv\")),\n",
    "        (\"linear\", LinearRegression())\n",
    "    ])\n",
    "\n",
    "\n",
    "scores_ctv = cross_val_score(full_pipeline, xtrain, ytrain, scoring=\"neg_mean_squared_error\", cv=5)\n",
    "pd.Series(np.sqrt(-scores_ctv)).describe()"
   ]
  },
  {
   "cell_type": "code",
   "execution_count": 20,
   "metadata": {},
   "outputs": [
    {
     "data": {
      "text/plain": [
       "count    5.000000\n",
       "mean     0.528404\n",
       "std      0.012404\n",
       "min      0.511381\n",
       "25%      0.524268\n",
       "50%      0.525473\n",
       "75%      0.538246\n",
       "max      0.542653\n",
       "dtype: float64"
      ]
     },
     "execution_count": 20,
     "metadata": {},
     "output_type": "execute_result"
    }
   ],
   "source": [
    "#TFV\n",
    "ncomp=200\n",
    "full_pipeline = Pipeline([\n",
    "        (\"preparation\", get_vec_pipe(ncomp,vect=\"tfv\")),\n",
    "        (\"linear\", LinearRegression())\n",
    "    ])\n",
    "\n",
    "scores_tfv = cross_val_score(full_pipeline, xtrain, ytrain, scoring=\"neg_mean_squared_error\", cv=5)\n",
    "pd.Series(np.sqrt(-scores_tfv)).describe()"
   ]
  },
  {
   "cell_type": "markdown",
   "metadata": {},
   "source": [
    "## Tuning n_components\n",
    "For the tuning of n components we can redo the cross val score for an increasing number of components. The plot shows 200 is an appropriate value. "
   ]
  },
  {
   "cell_type": "code",
   "execution_count": 21,
   "metadata": {},
   "outputs": [
    {
     "data": {
      "text/plain": [
       "<matplotlib.axes._subplots.AxesSubplot at 0x13dd1cf60>"
      ]
     },
     "execution_count": 21,
     "metadata": {},
     "output_type": "execute_result"
    },
    {
     "data": {
      "image/png": "[encoded data removed]",
      "text/plain": [
       "<matplotlib.figure.Figure at 0x13d650320>"
      ]
     },
     "metadata": {},
     "output_type": "display_data"
    }
   ],
   "source": [
    "scores_comp = []\n",
    "for ncomp in range(150,500,50):\n",
    "    full_pipeline = Pipeline([\n",
    "        (\"preparation\", get_vec_pipe(ncomp)),\n",
    "        (\"linear\", LinearRegression())\n",
    "    ])\n",
    "    scores = cross_val_score(full_pipeline, xtrain, ytrain, scoring=\"neg_mean_squared_error\", cv=3)\n",
    "    scores_comp.append(pd.Series(np.sqrt(-scores)).mean())\n",
    "\n",
    "pd.DataFrame({'ncomps':range(150,500,50), \"Cross Val Score\":scores_comp}).plot(x=\"ncomps\", y=\"Cross Val Score\")"
   ]
  },
  {
   "cell_type": "code",
   "execution_count": 31,
   "metadata": {},
   "outputs": [
    {
     "data": {
      "text/plain": [
       "GridSearchCV(cv=2, error_score='raise',\n",
       "       estimator=RandomForestRegressor(bootstrap=True, criterion='mse', max_depth=None,\n",
       "           max_features='auto', max_leaf_nodes=None,\n",
       "           min_impurity_split=1e-07, min_samples_leaf=1,\n",
       "           min_samples_split=2, min_weight_fraction_leaf=0.0,\n",
       "           n_estimators=10, n_jobs=1, oob_score=False, random_state=42,\n",
       "           verbose=0, warm_start=False),\n",
       "       fit_params={}, iid=True, n_jobs=1,\n",
       "       param_grid=[{'n_estimators': [80, 120], 'max_features': [40, 60, 80]}],\n",
       "       pre_dispatch='2*n_jobs', refit=True, return_train_score=True,\n",
       "       scoring='neg_mean_squared_error', verbose=0)"
      ]
     },
     "execution_count": 31,
     "metadata": {},
     "output_type": "execute_result"
    }
   ],
   "source": [
    "from sklearn.model_selection import GridSearchCV\n",
    "\n",
    "\n",
    "pipe = get_vec_pipe(ncomp,vect=\"tfv\")\n",
    "xprepared = pipe.fit_transform(xtrain,ytrain)\n",
    "param_grid = [\n",
    "    {'n_estimators': [80,120], 'max_features': [40,60,80]},\n",
    "  ]\n",
    "\n",
    "forest_reg = RandomForestRegressor(random_state=42)\n",
    "# train across 5 folds, that's a total of (12+6)*5=90 rounds of training \n",
    "grid_search = GridSearchCV(forest_reg, param_grid, cv=2,\n",
    "                           scoring='neg_mean_squared_error')\n",
    "grid_search.fit(xprepared, ytrain)"
   ]
  },
  {
   "cell_type": "code",
   "execution_count": 32,
   "metadata": {},
   "outputs": [
    {
     "data": {
      "text/plain": [
       "{'max_features': 80, 'n_estimators': 120}"
      ]
     },
     "execution_count": 32,
     "metadata": {},
     "output_type": "execute_result"
    }
   ],
   "source": [
    "grid_search.best_params_"
   ]
  },
  {
   "cell_type": "markdown",
   "metadata": {},
   "source": [
    "### Results are similar to what we got from Linear Regression. We eliminate testing other algorithms for this brief analysis and continue with linear regression model.  "
   ]
  },
  {
   "cell_type": "code",
   "execution_count": 33,
   "metadata": {
    "scrolled": true
   },
   "outputs": [
    {
     "name": "stdout",
     "output_type": "stream",
     "text": [
      "0.537963150965 {'max_features': 40, 'n_estimators': 80}\n",
      "0.536567296252 {'max_features': 40, 'n_estimators': 120}\n",
      "0.537069968675 {'max_features': 60, 'n_estimators': 80}\n",
      "0.536147234426 {'max_features': 60, 'n_estimators': 120}\n",
      "0.536478486347 {'max_features': 80, 'n_estimators': 80}\n",
      "0.535921141627 {'max_features': 80, 'n_estimators': 120}\n"
     ]
    }
   ],
   "source": [
    "cvres = grid_search.cv_results_\n",
    "for mean_score, params in zip(cvres[\"mean_test_score\"], cvres[\"params\"]):\n",
    "    print(np.sqrt(-mean_score), params)"
   ]
  },
  {
   "cell_type": "markdown",
   "metadata": {},
   "source": [
    "## Evaluating final model on test set:\n",
    "- Results show that final error is similar to what we had form cross validation."
   ]
  },
  {
   "cell_type": "code",
   "execution_count": 36,
   "metadata": {
    "scrolled": true
   },
   "outputs": [],
   "source": [
    "lr = LinearRegression()\n",
    "\n",
    "xprepared = pipe.fit_transform(xtrain,ytrain)\n",
    "xtestprep = pipe.transform(xtest)\n"
   ]
  },
  {
   "cell_type": "code",
   "execution_count": 40,
   "metadata": {},
   "outputs": [
    {
     "name": "stdout",
     "output_type": "stream",
     "text": [
      "Test Error= 0.524906567408\n"
     ]
    }
   ],
   "source": [
    "lr.fit(xprepared, ytrain)\n",
    "predictions = lr.predict(xtestprep)\n",
    "lin_mse = mean_squared_error(ytest, predictions)\n",
    "lin_rmse = np.sqrt(lin_mse)\n",
    "print('Test Error=',lin_rmse)\n"
   ]
  },
  {
   "cell_type": "code",
   "execution_count": null,
   "metadata": {
    "collapsed": true
   },
   "outputs": [],
   "source": []
  }
 ],
 "metadata": {
  "kernelspec": {
   "display_name": "Python 3",
   "language": "python",
   "name": "python3"
  },
  "language_info": {
   "codemirror_mode": {
    "name": "ipython",
    "version": 3
   },
   "file_extension": ".py",
   "mimetype": "text/x-python",
   "name": "python",
   "nbconvert_exporter": "python",
   "pygments_lexer": "ipython3",
   "version": "3.6.1"
  }
 },
 "nbformat": 4,
 "nbformat_minor": 2
}
